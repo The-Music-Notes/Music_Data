{
 "cells": [
  {
   "cell_type": "markdown",
   "metadata": {},
   "source": [
    "#CW Music Data Analysis\n",
    "---\n",
    "\n",
    "### Analysis\n",
    "\n",
    "\n",
    " "
   ]
  },
  {
   "cell_type": "code",
   "execution_count": 5,
   "metadata": {},
   "outputs": [
    {
     "data": {
      "text/html": [
       "<div>\n",
       "<style scoped>\n",
       "    .dataframe tbody tr th:only-of-type {\n",
       "        vertical-align: middle;\n",
       "    }\n",
       "\n",
       "    .dataframe tbody tr th {\n",
       "        vertical-align: top;\n",
       "    }\n",
       "\n",
       "    .dataframe thead th {\n",
       "        text-align: right;\n",
       "    }\n",
       "</style>\n",
       "<table border=\"1\" class=\"dataframe\">\n",
       "  <thead>\n",
       "    <tr style=\"text-align: right;\">\n",
       "      <th></th>\n",
       "      <th>Position</th>\n",
       "      <th>Track Name</th>\n",
       "      <th>Artist</th>\n",
       "      <th>Streams</th>\n",
       "      <th>Date</th>\n",
       "      <th>Year</th>\n",
       "      <th>Genre</th>\n",
       "      <th>Genere-Category</th>\n",
       "    </tr>\n",
       "  </thead>\n",
       "  <tbody>\n",
       "    <tr>\n",
       "      <th>0</th>\n",
       "      <td>1</td>\n",
       "      <td>Starboy</td>\n",
       "      <td>The Weeknd</td>\n",
       "      <td>3135625.0</td>\n",
       "      <td>1/1/17</td>\n",
       "      <td>2017</td>\n",
       "      <td>canadian pop</td>\n",
       "      <td>canadian pop  canadian contemporary r&amp;b pop</td>\n",
       "    </tr>\n",
       "    <tr>\n",
       "      <th>1</th>\n",
       "      <td>2</td>\n",
       "      <td>Closer</td>\n",
       "      <td>The Chainsmokers</td>\n",
       "      <td>3015525.0</td>\n",
       "      <td>1/1/17</td>\n",
       "      <td>2017</td>\n",
       "      <td>pop</td>\n",
       "      <td>pop  pop dance tropical house</td>\n",
       "    </tr>\n",
       "    <tr>\n",
       "      <th>2</th>\n",
       "      <td>3</td>\n",
       "      <td>Let Me Love You</td>\n",
       "      <td>DJ Snake</td>\n",
       "      <td>2545384.0</td>\n",
       "      <td>1/1/17</td>\n",
       "      <td>2017</td>\n",
       "      <td>pop</td>\n",
       "      <td>pop  electronic trap dance pop</td>\n",
       "    </tr>\n",
       "    <tr>\n",
       "      <th>3</th>\n",
       "      <td>4</td>\n",
       "      <td>Rockabye (feat. Sean Paul &amp; Anne-Marie)</td>\n",
       "      <td>Clean Bandit</td>\n",
       "      <td>2356604.0</td>\n",
       "      <td>1/1/17</td>\n",
       "      <td>2017</td>\n",
       "      <td>pop</td>\n",
       "      <td>pop  uk dance dance pop</td>\n",
       "    </tr>\n",
       "    <tr>\n",
       "      <th>4</th>\n",
       "      <td>5</td>\n",
       "      <td>One Dance</td>\n",
       "      <td>Drake</td>\n",
       "      <td>2259887.0</td>\n",
       "      <td>1/1/17</td>\n",
       "      <td>2017</td>\n",
       "      <td>toronto rap</td>\n",
       "      <td>toronto rap  canadian pop canadian hip hop</td>\n",
       "    </tr>\n",
       "    <tr>\n",
       "      <th>...</th>\n",
       "      <td>...</td>\n",
       "      <td>...</td>\n",
       "      <td>...</td>\n",
       "      <td>...</td>\n",
       "      <td>...</td>\n",
       "      <td>...</td>\n",
       "      <td>...</td>\n",
       "      <td>...</td>\n",
       "    </tr>\n",
       "    <tr>\n",
       "      <th>65530</th>\n",
       "      <td>131</td>\n",
       "      <td>Whatever It Takes</td>\n",
       "      <td>Imagine Dragons</td>\n",
       "      <td>642243.0</td>\n",
       "      <td>11/28/17</td>\n",
       "      <td>NaN</td>\n",
       "      <td>modern rock</td>\n",
       "      <td>modern rock  pop rock</td>\n",
       "    </tr>\n",
       "    <tr>\n",
       "      <th>65531</th>\n",
       "      <td>132</td>\n",
       "      <td>It Ain't Me (with Selena Gomez)</td>\n",
       "      <td>Kygo</td>\n",
       "      <td>636574.0</td>\n",
       "      <td>11/28/17</td>\n",
       "      <td>NaN</td>\n",
       "      <td>tropical house</td>\n",
       "      <td>tropical house  pop dance pop</td>\n",
       "    </tr>\n",
       "    <tr>\n",
       "      <th>65532</th>\n",
       "      <td>133</td>\n",
       "      <td>I Don‚Äôt Wanna Live Forever (Fifty Shades Dar...</td>\n",
       "      <td>ZAYN</td>\n",
       "      <td>635414.0</td>\n",
       "      <td>11/28/17</td>\n",
       "      <td>NaN</td>\n",
       "      <td>pop</td>\n",
       "      <td>pop  post-teen pop uk pop</td>\n",
       "    </tr>\n",
       "    <tr>\n",
       "      <th>65533</th>\n",
       "      <td>134</td>\n",
       "      <td>Codeine Dreaming (feat. Lil Wayne)</td>\n",
       "      <td>Kodak Black</td>\n",
       "      <td>634058.0</td>\n",
       "      <td>11/28/17</td>\n",
       "      <td>NaN</td>\n",
       "      <td>melodic rap</td>\n",
       "      <td>melodic rap  rap miami hip hop</td>\n",
       "    </tr>\n",
       "    <tr>\n",
       "      <th>65534</th>\n",
       "      <td>135</td>\n",
       "      <td>Redbone</td>\n",
       "      <td>Childish Gambino</td>\n",
       "      <td>633809.0</td>\n",
       "      <td>11/28/17</td>\n",
       "      <td>NaN</td>\n",
       "      <td>rap</td>\n",
       "      <td>rap  atl hip hop pop rap</td>\n",
       "    </tr>\n",
       "  </tbody>\n",
       "</table>\n",
       "<p>65535 rows × 8 columns</p>\n",
       "</div>"
      ],
      "text/plain": [
       "       Position                                         Track Name  \\\n",
       "0             1                                            Starboy   \n",
       "1             2                                             Closer   \n",
       "2             3                                    Let Me Love You   \n",
       "3             4            Rockabye (feat. Sean Paul & Anne-Marie)   \n",
       "4             5                                          One Dance   \n",
       "...         ...                                                ...   \n",
       "65530       131                                  Whatever It Takes   \n",
       "65531       132                    It Ain't Me (with Selena Gomez)   \n",
       "65532       133  I Don‚Äôt Wanna Live Forever (Fifty Shades Dar...   \n",
       "65533       134                 Codeine Dreaming (feat. Lil Wayne)   \n",
       "65534       135                                            Redbone   \n",
       "\n",
       "                 Artist    Streams      Date  Year           Genre  \\\n",
       "0            The Weeknd  3135625.0    1/1/17  2017    canadian pop   \n",
       "1      The Chainsmokers  3015525.0    1/1/17  2017             pop   \n",
       "2              DJ Snake  2545384.0    1/1/17  2017             pop   \n",
       "3          Clean Bandit  2356604.0    1/1/17  2017             pop   \n",
       "4                 Drake  2259887.0    1/1/17  2017     toronto rap   \n",
       "...                 ...        ...       ...   ...             ...   \n",
       "65530   Imagine Dragons   642243.0  11/28/17   NaN     modern rock   \n",
       "65531              Kygo   636574.0  11/28/17   NaN  tropical house   \n",
       "65532              ZAYN   635414.0  11/28/17   NaN             pop   \n",
       "65533       Kodak Black   634058.0  11/28/17   NaN     melodic rap   \n",
       "65534  Childish Gambino   633809.0  11/28/17   NaN             rap   \n",
       "\n",
       "                                   Genere-Category  \n",
       "0      canadian pop  canadian contemporary r&b pop  \n",
       "1                    pop  pop dance tropical house  \n",
       "2                   pop  electronic trap dance pop  \n",
       "3                          pop  uk dance dance pop  \n",
       "4       toronto rap  canadian pop canadian hip hop  \n",
       "...                                            ...  \n",
       "65530                        modern rock  pop rock  \n",
       "65531                tropical house  pop dance pop  \n",
       "65532                    pop  post-teen pop uk pop  \n",
       "65533               melodic rap  rap miami hip hop  \n",
       "65534                     rap  atl hip hop pop rap  \n",
       "\n",
       "[65535 rows x 8 columns]"
      ]
     },
     "execution_count": 5,
     "metadata": {},
     "output_type": "execute_result"
    }
   ],
   "source": [
    "# Dependencies and Setup\n",
    "import matplotlib.pyplot as plt\n",
    "import pandas as pd\n",
    "\n",
    "\n",
    "# Study data files\"\n",
    "Music = \"data/Music_data.csv\"\n",
    "\n",
    "\n",
    "# Read the mouse data and the study results\n",
    "Music = pd.read_csv(Music)\n",
    "Music\n",
    "\n",
    "\n",
    "\n",
    "# Display the data table "
   ]
  },
  {
   "cell_type": "code",
   "execution_count": 2,
   "metadata": {},
   "outputs": [],
   "source": [
    "#KAT\n",
    "# check number of music genre\n",
    "# Identify the highest streaming month/ year by genre?? Veethika\n",
    "\n"
   ]
  },
  {
   "cell_type": "code",
   "execution_count": 11,
   "metadata": {},
   "outputs": [],
   "source": [
    "#CARMEN\n",
    "#check number of download/ streaming by Daily,monthly, year?- \n",
    "\n",
    "\n",
    "\n",
    "\n",
    "#Identify top perfoming streamed artist pre and post Covid/ \n",
    "\n"
   ]
  },
  {
   "cell_type": "code",
   "execution_count": 5,
   "metadata": {},
   "outputs": [],
   "source": [
    "#MICHELLE\n",
    "#Identify the loudness of song base on(DB in decible)\n",
    "#create a scatter plot to show loudness based on DB\n",
    "\n",
    "\n",
    "\n"
   ]
  },
  {
   "cell_type": "code",
   "execution_count": 6,
   "metadata": {},
   "outputs": [],
   "source": [
    "# Checking the number of ??\n",
    "\n"
   ]
  },
  {
   "cell_type": "markdown",
   "metadata": {},
   "source": [
    "## Summary Statistics"
   ]
  },
  {
   "cell_type": "code",
   "execution_count": 7,
   "metadata": {},
   "outputs": [],
   "source": [
    "# Generate a summary statistics table of mean, median, variance, standard deviation, and SEM \n",
    "# Use groupby and summary statistical methods to calculate the following properties of ?: \n",
    "# mean, median, variance, standard deviation, and SEM of the tumor volume.\n",
    "\n",
    "# Assemble the resulting series into a single summary DataFrame.\n",
    "\n",
    "\n",
    "\n",
    "\n",
    " \n"
   ]
  },
  {
   "cell_type": "code",
   "execution_count": 8,
   "metadata": {},
   "outputs": [],
   "source": [
    "#Total sum aggregate based on ?\n"
   ]
  },
  {
   "cell_type": "markdown",
   "metadata": {},
   "source": [
    "## Bar and Pie Charts"
   ]
  },
  {
   "cell_type": "code",
   "execution_count": 9,
   "metadata": {},
   "outputs": [],
   "source": [
    "#CARMEN\n",
    "# Generate a bar plot showing the total number songs  download by year/ Month ?  using Pandas.\n",
    "\n",
    "\n"
   ]
  },
  {
   "cell_type": "code",
   "execution_count": 10,
   "metadata": {},
   "outputs": [],
   "source": [
    "#  Generate a bar plot showing the total number songs  download by year/ Month ?  using pyplot.\n"
   ]
  },
  {
   "cell_type": "code",
   "execution_count": 12,
   "metadata": {},
   "outputs": [],
   "source": [
    "\n",
    "\n"
   ]
  },
  {
   "cell_type": "markdown",
   "metadata": {},
   "source": [
    "## Quartiles, Outliers and Boxplots"
   ]
  },
  {
   "cell_type": "code",
   "execution_count": 13,
   "metadata": {},
   "outputs": [],
   "source": [
    "# Filter data for the specified ARTIST\n"
   ]
  },
  {
   "cell_type": "code",
   "execution_count": 14,
   "metadata": {},
   "outputs": [],
   "source": [
    "# Generate a box plot that shows the distrubution ???"
   ]
  },
  {
   "cell_type": "code",
   "execution_count": null,
   "metadata": {},
   "outputs": [],
   "source": []
  },
  {
   "cell_type": "markdown",
   "metadata": {},
   "source": [
    "## Line and Scatter Plots"
   ]
  },
  {
   "cell_type": "code",
   "execution_count": 58,
   "metadata": {},
   "outputs": [],
   "source": [
    "# Generate a line plot of ?   "
   ]
  },
  {
   "cell_type": "code",
   "execution_count": 15,
   "metadata": {},
   "outputs": [],
   "source": [
    "# Generate a scatter plot ?"
   ]
  },
  {
   "cell_type": "markdown",
   "metadata": {},
   "source": [
    "## Correlation and Regression"
   ]
  },
  {
   "cell_type": "code",
   "execution_count": 16,
   "metadata": {},
   "outputs": [],
   "source": [
    "#correlation between music download and covid "
   ]
  },
  {
   "cell_type": "code",
   "execution_count": null,
   "metadata": {},
   "outputs": [],
   "source": []
  }
 ],
 "metadata": {
  "anaconda-cloud": {},
  "kernelspec": {
   "display_name": "Python 3 (ipykernel)",
   "language": "python",
   "name": "python3"
  },
  "language_info": {
   "codemirror_mode": {
    "name": "ipython",
    "version": 3
   },
   "file_extension": ".py",
   "mimetype": "text/x-python",
   "name": "python",
   "nbconvert_exporter": "python",
   "pygments_lexer": "ipython3",
   "version": "3.11.5"
  }
 },
 "nbformat": 4,
 "nbformat_minor": 4
}
